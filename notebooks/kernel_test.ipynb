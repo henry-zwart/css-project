{
 "cells": [
  {
   "cell_type": "code",
   "execution_count": null,
   "id": "0",
   "metadata": {},
   "outputs": [],
   "source": [
    "import numpy as np\n",
    "from scipy import signal"
   ]
  },
  {
   "cell_type": "markdown",
   "id": "1",
   "metadata": {},
   "source": [
    "# Using convolutions with a kernel to calculate values for rules\n",
    "\n",
    "We can efficiently compute several quantities required for the rules using convolutions with a 2D kernel. \n",
    "\n",
    "This is analogous to sliding a window over the grid, and computing a quantity for each centre cell. In the simplest case, we\n",
    "can count the number of neighbours belonging to each species with the following kernel:"
   ]
  },
  {
   "cell_type": "code",
   "execution_count": null,
   "id": "2",
   "metadata": {},
   "outputs": [],
   "source": [
    "KERNEL_COUNT_NEIGHBOURS = np.array(\n",
    "    [[1, 1, 1], [1, 0, 1], [1, 1, 1]],\n",
    ")"
   ]
  },
  {
   "cell_type": "markdown",
   "id": "3",
   "metadata": {},
   "source": [
    "As the kernel moves over the grid, we multiply the aligning elements by the kernel weights, and return the weighted sum. In this case, we multiply each neighbour of the center cell by 1, and return the sum. This gives us the number of neighbours of a given species.\n",
    "\n",
    "Below, \"state\" contains two binary grid, with each layer corresponding to a separate species. The value is $1$ if the species exists in a given cell, and $0$ otherwise.\n",
    "\n",
    "Notice that by applying the kernel to this state, we obtain a new numpy array with the same shape, where each element specifies the number of neighbours of each species."
   ]
  },
  {
   "cell_type": "code",
   "execution_count": null,
   "id": "4",
   "metadata": {},
   "outputs": [],
   "source": [
    "state = np.array(\n",
    "    [\n",
    "        [[1, 1, 0], [1, 0, 0], [0, 0, 0]],\n",
    "        [[0, 0, 1], [0, 0, 1], [0, 0, 0]],\n",
    "    ]\n",
    ")\n",
    "\n",
    "signal.convolve(\n",
    "    state,\n",
    "    KERNEL_COUNT_NEIGHBOURS[None, ...],\n",
    "    mode=\"same\",\n",
    ")"
   ]
  },
  {
   "cell_type": "markdown",
   "id": "5",
   "metadata": {},
   "source": [
    "We can use a modified kernel to simulate a diffusion process, such as _nutrient diffusion_, seen below.\n",
    "\n",
    "Roughly, the nutrient level of a cell is reduced by 10% as the contents diffuse to neighbouring cells (center cell in the kernel), and increases proportional to the neighbouring cell nutrient levels (outer cells):"
   ]
  },
  {
   "cell_type": "code",
   "execution_count": null,
   "id": "6",
   "metadata": {},
   "outputs": [],
   "source": [
    "KERNEL_DIFFUSE = np.array(\n",
    "    [[0.1 / 8, 0.1 / 8, 0.1 / 8], [0.1 / 8, 0.9, 0.1 / 8], [0.1 / 8, 0.1 / 8, 0.1 / 8]]\n",
    ")"
   ]
  },
  {
   "cell_type": "markdown",
   "id": "7",
   "metadata": {},
   "source": [
    "Applying this to a grid of cell nutrient levels, we observe a diffusion process:"
   ]
  },
  {
   "cell_type": "code",
   "execution_count": null,
   "id": "8",
   "metadata": {},
   "outputs": [],
   "source": [
    "nutrients = np.array(\n",
    "    [\n",
    "        [0.5, 0.5, 0.5],\n",
    "        [0.5, 0.5, 0.5],\n",
    "        [0.5, 0.5, 0.5],\n",
    "    ]\n",
    ")\n",
    "\n",
    "prior_nutrient_level = nutrients.sum()\n",
    "print(f\"Prior nutrient level: {prior_nutrient_level}\")\n",
    "\n",
    "diffused_nutrients = signal.convolve2d(\n",
    "    nutrients,\n",
    "    KERNEL_DIFFUSE,\n",
    "    boundary=\"fill\",\n",
    "    mode=\"same\",\n",
    ")\n",
    "\n",
    "print(f\"New nutrient level: {diffused_nutrients.sum()}\")\n",
    "diffused_nutrients"
   ]
  },
  {
   "cell_type": "markdown",
   "id": "9",
   "metadata": {},
   "source": [
    "Note that at the boundary, the convolution treats missing cells as having nutrient level $0$. This leads to a net reduction in the total nutrient level.\n",
    "\n",
    "To maintain a net-zero change in the nutrient level, we could distribute the dissipated nutrients evenly across all cells:"
   ]
  },
  {
   "cell_type": "code",
   "execution_count": null,
   "id": "10",
   "metadata": {},
   "outputs": [],
   "source": [
    "nutrients = np.array(\n",
    "    [\n",
    "        [0.5, 0.5, 0.5],\n",
    "        [0.5, 0.5, 0.5],\n",
    "        [0.5, 0.5, 0.5],\n",
    "    ]\n",
    ")\n",
    "\n",
    "prior_nutrient_level = nutrients.sum()\n",
    "print(f\"Prior nutrient level: {prior_nutrient_level}\")\n",
    "\n",
    "diffused_nutrients = signal.convolve2d(\n",
    "    nutrients, KERNEL_DIFFUSE, boundary=\"fill\", mode=\"same\"\n",
    ")\n",
    "\n",
    "dissipated = prior_nutrient_level - diffused_nutrients.sum()\n",
    "\n",
    "corrected_nutrients = diffused_nutrients + dissipated / diffused_nutrients.size\n",
    "print(f\"New nutrient level: {corrected_nutrients.sum()}\")\n",
    "corrected_nutrients"
   ]
  },
  {
   "cell_type": "code",
   "execution_count": null,
   "id": "11",
   "metadata": {},
   "outputs": [],
   "source": []
  }
 ],
 "metadata": {
  "kernelspec": {
   "display_name": "Python 3 (ipykernel)",
   "language": "python",
   "name": "python3"
  },
  "language_info": {
   "codemirror_mode": {
    "name": "ipython",
    "version": 3
   },
   "file_extension": ".py",
   "mimetype": "text/x-python",
   "name": "python",
   "nbconvert_exporter": "python",
   "pygments_lexer": "ipython3",
   "version": "3.12.8"
  }
 },
 "nbformat": 4,
 "nbformat_minor": 5
}
